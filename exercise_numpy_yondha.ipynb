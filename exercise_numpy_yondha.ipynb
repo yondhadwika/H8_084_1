{
 "cells": [
  {
   "cell_type": "code",
   "execution_count": 5,
   "id": "baeedc3b",
   "metadata": {},
   "outputs": [],
   "source": [
    "import numpy as np"
   ]
  },
  {
   "cell_type": "code",
   "execution_count": 21,
   "id": "6717831a",
   "metadata": {},
   "outputs": [
    {
     "name": "stdout",
     "output_type": "stream",
     "text": [
      "#Input\n",
      "mulai:  1\n",
      "Selesai:  27\n",
      "\n",
      "#1 Dimensi\n"
     ]
    },
    {
     "data": {
      "text/plain": [
       "array([ 1,  2,  3,  4,  5,  6,  7,  8,  9, 10, 11, 12, 13, 14, 15, 16, 17,\n",
       "       18, 19, 20, 21, 22, 23, 24, 24, 26, 27])"
      ]
     },
     "execution_count": 21,
     "metadata": {},
     "output_type": "execute_result"
    }
   ],
   "source": [
    "data = np.array ([1, 2, 3, 4, 5, 6, 7, 8, 9, 10, 11, 12, 13, 14, 15, 16, 17, 18, 19, 20, 21, 22, 23, 24, 24, 26, 27])\n",
    "print(\"#Input\")\n",
    "print(\"mulai: \", data[0])\n",
    "print(\"Selesai: \", data.size)\n",
    "print(\"\")\n",
    "print(\"#1 Dimensi\")\n",
    "data\n"
   ]
  },
  {
   "cell_type": "code",
   "execution_count": 22,
   "id": "9913b0c9",
   "metadata": {},
   "outputs": [
    {
     "name": "stdout",
     "output_type": "stream",
     "text": [
      "\n",
      "#2 Dimensi\n"
     ]
    },
    {
     "data": {
      "text/plain": [
       "array([[ 1,  2,  3,  4,  5,  6,  7,  8,  9],\n",
       "       [10, 11, 12, 13, 14, 15, 16, 17, 18],\n",
       "       [19, 20, 21, 22, 23, 24, 24, 26, 27]])"
      ]
     },
     "execution_count": 22,
     "metadata": {},
     "output_type": "execute_result"
    }
   ],
   "source": [
    "print(\"\")\n",
    "print(\"#2 Dimensi\")\n",
    "data.reshape(3,9)"
   ]
  },
  {
   "cell_type": "code",
   "execution_count": 23,
   "id": "201a7738",
   "metadata": {},
   "outputs": [
    {
     "name": "stdout",
     "output_type": "stream",
     "text": [
      "\n",
      "#3 Dimensi\n"
     ]
    },
    {
     "data": {
      "text/plain": [
       "array([[[ 1,  2,  3],\n",
       "        [ 4,  5,  6],\n",
       "        [ 7,  8,  9]],\n",
       "\n",
       "       [[10, 11, 12],\n",
       "        [13, 14, 15],\n",
       "        [16, 17, 18]],\n",
       "\n",
       "       [[19, 20, 21],\n",
       "        [22, 23, 24],\n",
       "        [24, 26, 27]]])"
      ]
     },
     "execution_count": 23,
     "metadata": {},
     "output_type": "execute_result"
    }
   ],
   "source": [
    "print(\"\")\n",
    "print(\"#3 Dimensi\")\n",
    "data.reshape(3,3,3)"
   ]
  },
  {
   "cell_type": "code",
   "execution_count": 24,
   "id": "c89ca427",
   "metadata": {},
   "outputs": [],
   "source": [
    "#Soal 2"
   ]
  },
  {
   "cell_type": "code",
   "execution_count": 49,
   "id": "b29551b9",
   "metadata": {},
   "outputs": [
    {
     "name": "stdout",
     "output_type": "stream",
     "text": [
      "Banyak data: 16\n",
      "mulai: 1\n",
      "Selesai: 50\n"
     ]
    }
   ],
   "source": [
    "#input\n",
    "n = int(input(\"Banyak data: \"))\n",
    "start = int (input(\"mulai: \"))\n",
    "end = int (input(\"Selesai: \"))\n"
   ]
  },
  {
   "cell_type": "code",
   "execution_count": 52,
   "id": "9a7889b0",
   "metadata": {},
   "outputs": [
    {
     "data": {
      "text/plain": [
       "array([ 3, 12, 38, 31, 26, 20,  4, 23, 46, 45, 25, 33, 26, 32, 27,  8])"
      ]
     },
     "execution_count": 52,
     "metadata": {},
     "output_type": "execute_result"
    }
   ],
   "source": [
    "data = np.random.randint(start, end, n)\n",
    "data"
   ]
  },
  {
   "cell_type": "code",
   "execution_count": 54,
   "id": "a96aa311",
   "metadata": {},
   "outputs": [
    {
     "data": {
      "text/plain": [
       "array([[ 3, 12, 38, 31],\n",
       "       [26, 20,  4, 23],\n",
       "       [46, 45, 25, 33],\n",
       "       [26, 32, 27,  8]])"
      ]
     },
     "execution_count": 54,
     "metadata": {},
     "output_type": "execute_result"
    }
   ],
   "source": [
    "#dua dimensi\n",
    "duaDim = data.reshape(4,4)\n",
    "duaDim"
   ]
  },
  {
   "cell_type": "code",
   "execution_count": 59,
   "id": "45b52a83",
   "metadata": {},
   "outputs": [
    {
     "data": {
      "text/plain": [
       "array([[31, 38, 12,  3],\n",
       "       [23,  4, 20, 26],\n",
       "       [33, 25, 45, 46],\n",
       "       [ 8, 27, 32, 26]])"
      ]
     },
     "execution_count": 59,
     "metadata": {},
     "output_type": "execute_result"
    }
   ],
   "source": [
    "#tukarposisi\n",
    "duaDim[:,::-1]"
   ]
  },
  {
   "cell_type": "code",
   "execution_count": 56,
   "id": "38c93e01",
   "metadata": {},
   "outputs": [],
   "source": [
    "#soal 3"
   ]
  },
  {
   "cell_type": "code",
   "execution_count": 57,
   "id": "25a55728",
   "metadata": {},
   "outputs": [
    {
     "name": "stdout",
     "output_type": "stream",
     "text": [
      "#Array 2 dimensi 10 x 10 \n"
     ]
    },
    {
     "data": {
      "text/plain": [
       "array([[4., 4., 4., 4., 4., 4., 4., 4., 4., 4.],\n",
       "       [4., 0., 0., 0., 0., 0., 0., 0., 0., 4.],\n",
       "       [4., 0., 0., 0., 0., 0., 0., 0., 0., 4.],\n",
       "       [4., 0., 0., 0., 0., 0., 0., 0., 0., 4.],\n",
       "       [4., 0., 0., 0., 0., 0., 0., 0., 0., 4.],\n",
       "       [4., 0., 0., 0., 0., 0., 0., 0., 0., 4.],\n",
       "       [4., 0., 0., 0., 0., 0., 0., 0., 0., 4.],\n",
       "       [4., 0., 0., 0., 0., 0., 0., 0., 0., 4.],\n",
       "       [4., 0., 0., 0., 0., 0., 0., 0., 0., 4.],\n",
       "       [4., 4., 4., 4., 4., 4., 4., 4., 4., 4.]])"
      ]
     },
     "execution_count": 57,
     "metadata": {},
     "output_type": "execute_result"
    }
   ],
   "source": [
    "print(\"#Array 2 dimensi 10 x 10 \")\n",
    "x = np.ones((10,10))*4\n",
    "x[1:-1, 1:-1] = 0\n",
    "x"
   ]
  },
  {
   "cell_type": "code",
   "execution_count": null,
   "id": "525be0e4",
   "metadata": {},
   "outputs": [],
   "source": []
  }
 ],
 "metadata": {
  "kernelspec": {
   "display_name": "Python 3 (ipykernel)",
   "language": "python",
   "name": "python3"
  },
  "language_info": {
   "codemirror_mode": {
    "name": "ipython",
    "version": 3
   },
   "file_extension": ".py",
   "mimetype": "text/x-python",
   "name": "python",
   "nbconvert_exporter": "python",
   "pygments_lexer": "ipython3",
   "version": "3.9.12"
  }
 },
 "nbformat": 4,
 "nbformat_minor": 5
}
