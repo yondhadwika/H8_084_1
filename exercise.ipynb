{
 "cells": [
  {
   "cell_type": "code",
   "execution_count": 1,
   "id": "a8ed6d38",
   "metadata": {},
   "outputs": [
    {
     "name": "stdout",
     "output_type": "stream",
     "text": [
      "Masukan angka: 5\n",
      "Bilangan  5 Tergolong bilangan GANJIL\n"
     ]
    }
   ],
   "source": [
    "def ganjilGenap(angka):\n",
    "    if(angka%2)==0:\n",
    "        return \"GENAP\"\n",
    "    else:\n",
    "        return \"GANJIL\"\n",
    "\n",
    "angka=5\n",
    "print(\"Masukan angka:\",angka)\n",
    "print(\"Bilangan \",angka,\"Tergolong bilangan\",ganjilGenap(angka))"
   ]
  },
  {
   "cell_type": "code",
   "execution_count": 2,
   "id": "4ff68341",
   "metadata": {},
   "outputs": [
    {
     "name": "stdout",
     "output_type": "stream",
     "text": [
      "MENU MENGHITUNG RUMUS LUAS SEGITIGA DAN PERSEGI\n",
      "Masukan angka 1 untuk menghitung Luas Segitiga\n",
      "Masukan Angka 2 untuk Mengitung Luas Persegi\n",
      "PIlihan Menu yang diinginkan : 1\n",
      "Masukan Tinggi Segitiga : 10\n",
      "Masukan Alas Segitiga : 20\n",
      "Luas Segitiga tersebut Adalah :100.0\n"
     ]
    }
   ],
   "source": [
    "def hasil(menu, tinggi, alas):\n",
    "    if menu == 1:\n",
    "        luas_segitiga = 1/2*alas*tinggi\n",
    "        return \"{}{}\".format(\"Luas Segitiga tersebut Adalah :\", luas_segitiga)\n",
    "    elif menu == 2:\n",
    "        luas_persegi = alas*tinggi\n",
    "        return \"{}{}\".format(\"Luas Persegi tersebut Adalah :\", luas_persegi)\n",
    "    else:\n",
    "        return \"Input menu salah yang diizinkan hanya 1 dan 2\"\n",
    "\n",
    "menu=1\n",
    "tinggi=10\n",
    "alas=20\n",
    "print(\"MENU MENGHITUNG RUMUS LUAS SEGITIGA DAN PERSEGI\")\n",
    "print(\"Masukan angka 1 untuk menghitung Luas Segitiga\")\n",
    "print(\"Masukan Angka 2 untuk Mengitung Luas Persegi\")\n",
    "print(\"PIlihan Menu yang diinginkan :\",menu)\n",
    "print(\"Masukan Tinggi Segitiga :\",tinggi)\n",
    "print(\"Masukan Alas Segitiga :\",alas)\n",
    "print(hasil(menu,tinggi,alas))"
   ]
  },
  {
   "cell_type": "code",
   "execution_count": 3,
   "id": "f59676aa",
   "metadata": {},
   "outputs": [
    {
     "name": "stdout",
     "output_type": "stream",
     "text": [
      "MAsukkan jumlah hari : 398\n",
      "398 hari= 1 tahun 1 bulan 1 minggu 1 hari\n"
     ]
    }
   ],
   "source": [
    "def breakHari(jmlhari):\n",
    "    tahun = int(jmlhari/360)\n",
    "    bulan = int(((jmlhari/360)-int(jmlhari/360))*360/30)\n",
    "\n",
    "    minggu = int(((((jmlhari/360)-int(jmlhari/360))*360/30) -\n",
    "                 int((((jmlhari/360)-int(jmlhari/360))*360/30)))*30/7)\n",
    "    minggu_decimal = ((((jmlhari/360)-int(jmlhari/360))*360/30) -\n",
    "                      int((((jmlhari/360)-int(jmlhari/360))*360/30)))*30/7\n",
    "    hari = int((minggu_decimal-int(minggu_decimal))*7)\n",
    "    return \"{} hari= {} tahun {} bulan {} minggu {} hari\".format(jmlhari, tahun, bulan, minggu, hari)\n",
    "\n",
    "\n",
    "jumlahHari = 398\n",
    "\n",
    "print(\"MAsukkan jumlah hari :\", jumlahHari)\n",
    "print(breakHari(jumlahHari))"
   ]
  },
  {
   "cell_type": "code",
   "execution_count": null,
   "id": "d5245228",
   "metadata": {},
   "outputs": [],
   "source": []
  }
 ],
 "metadata": {
  "kernelspec": {
   "display_name": "Python 3 (ipykernel)",
   "language": "python",
   "name": "python3"
  },
  "language_info": {
   "codemirror_mode": {
    "name": "ipython",
    "version": 3
   },
   "file_extension": ".py",
   "mimetype": "text/x-python",
   "name": "python",
   "nbconvert_exporter": "python",
   "pygments_lexer": "ipython3",
   "version": "3.9.12"
  }
 },
 "nbformat": 4,
 "nbformat_minor": 5
}
