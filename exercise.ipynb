{
 "cells": [
  {
   "cell_type": "code",
   "execution_count": 13,
   "id": "d45593af",
   "metadata": {},
   "outputs": [
    {
     "name": "stdout",
     "output_type": "stream",
     "text": [
      "Masukkan angka: -1\n",
      "Masukkan Bilangan Bulat Positif\n"
     ]
    }
   ],
   "source": [
    "bil = int(input('Masukkan angka: '))\n",
    "\n",
    "if (bil == 0) :\n",
    "\n",
    "    print ('0 Bukanlah Bilangan Ganjil Maupun Genap')\n",
    "\n",
    "elif (bil < 0) :\n",
    "\n",
    "    print ('Masukkan Bilangan Bulat Positif')\n",
    "\n",
    "elif (bil%2 == 0 ):\n",
    "\n",
    "    print('Bilangan {} tergolong bilangan GENAP'.format(bil))\n",
    "\n",
    "else:\n",
    "\n",
    "    print('Bilangan {} tergolong bilangan GANJIL'.format(bil)) "
   ]
  },
  {
   "cell_type": "code",
   "execution_count": 24,
   "id": "8de06cdb",
   "metadata": {},
   "outputs": [
    {
     "name": "stdout",
     "output_type": "stream",
     "text": [
      "MENU MENGHITUNG LUAS SEGITIGA DAN PERSEGI\n",
      "Masukkan anka 1 untuk menghitung luas segitiga\n",
      "Masukkan angka 2 untuk menghitung luas persegi\n",
      "Pilihan Menu yang diinginkan: 2\n",
      "Perhitungan luas persegi\n",
      "Masukan panjang sisi persegi :898\n",
      "Luas persegi tersebut adalah  806404\n"
     ]
    }
   ],
   "source": [
    "print (\"MENU MENGHITUNG LUAS SEGITIGA DAN PERSEGI\")\n",
    "print (\"Masukkan anka 1 untuk menghitung luas segitiga\")\n",
    "print (\"Masukkan angka 2 untuk menghitung luas persegi\")\n",
    "\n",
    "menu = int(input(\"Pilihan Menu yang diinginkan: \"))\n",
    "\n",
    "if menu == 1:\n",
    "    print(\"Perhitungan luas segitiga\")\n",
    "    alas = input(\"Masukan alas segitiga :\")    \n",
    "    alas_int = int(alas)\n",
    "    tinggi = input(\"Masukan tinggi segitiga :\")\n",
    "    tinggi_int = int(tinggi)\n",
    "    luas_segitiga = alas_int*tinggi_int/2\n",
    "    print(\"Luas segitiga tersebut adalah \",luas_segitiga)\n",
    "\n",
    "elif menu == 2:    \n",
    "    print(\"Perhitungan luas persegi\")\n",
    "    panjang = input(\"Masukan panjang sisi persegi :\")    \n",
    "    panjang_int = int(panjang)\n",
    "    luas_persegi = panjang_int**2\n",
    "    print(\"Luas persegi tersebut adalah \", luas_persegi)\n",
    "else :\n",
    "    print(\"Masukkan input yang benar\")\n"
   ]
  },
  {
   "cell_type": "code",
   "execution_count": 19,
   "id": "f180ccfa",
   "metadata": {},
   "outputs": [
    {
     "name": "stdout",
     "output_type": "stream",
     "text": [
      "Masukkan Jumlah Hari: 2\n",
      "2 hari = 0 Tahun 0 bulan 0 minggu 2 hari\n"
     ]
    }
   ],
   "source": [
    "import math\n",
    "jumlah_hari = int(input(\"Masukkan Jumlah Hari: \"))\n",
    "tahun = math.floor(jumlah_hari/360)\n",
    "bulan = math.floor((jumlah_hari - (tahun*360))/30)\n",
    "minggu = math.floor((jumlah_hari - (tahun *360)-(30*bulan))/7)\n",
    "hari = math.floor(jumlah_hari - (minggu*7)-(tahun *360)-(30*bulan))\n",
    "print(jumlah_hari,\"hari\",\"=\",tahun,\"Tahun\",bulan,\"bulan\",minggu,\"minggu\",hari,\"hari\")"
   ]
  },
  {
   "cell_type": "code",
   "execution_count": null,
   "id": "51d2b202",
   "metadata": {},
   "outputs": [],
   "source": []
  }
 ],
 "metadata": {
  "kernelspec": {
   "display_name": "Python 3 (ipykernel)",
   "language": "python",
   "name": "python3"
  },
  "language_info": {
   "codemirror_mode": {
    "name": "ipython",
    "version": 3
   },
   "file_extension": ".py",
   "mimetype": "text/x-python",
   "name": "python",
   "nbconvert_exporter": "python",
   "pygments_lexer": "ipython3",
   "version": "3.9.12"
  }
 },
 "nbformat": 4,
 "nbformat_minor": 5
}
